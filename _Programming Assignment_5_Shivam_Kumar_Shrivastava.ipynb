{
 "cells": [
  {
   "cell_type": "markdown",
   "id": "3cda568b",
   "metadata": {},
   "source": [
    "#                          Programming Assignment-5\n",
    "\n",
    "Name: Shivam Kumar Shrivastava\n",
    "\n",
    "Email:sbashrivastava95@gmail.com"
   ]
  },
  {
   "cell_type": "markdown",
   "id": "bc1343e1",
   "metadata": {},
   "source": [
    "# 1. Write a Python Program to Find LCM?"
   ]
  },
  {
   "cell_type": "code",
   "execution_count": 1,
   "id": "e4f103b2",
   "metadata": {},
   "outputs": [
    {
     "name": "stdout",
     "output_type": "stream",
     "text": [
      "12\n",
      "255\n"
     ]
    }
   ],
   "source": [
    "def lcm(x, y):\n",
    "    if x > y:\n",
    "        z = x\n",
    "    else:\n",
    "        z = y\n",
    "    while(True):\n",
    "        if((z % x == 0) and (z % y == 0)):\n",
    "            lcm = z\n",
    "            break\n",
    "        z += 1\n",
    "    return lcm\n",
    "print(lcm(4, 6))\n",
    "print(lcm(15, 17))"
   ]
  },
  {
   "cell_type": "markdown",
   "id": "93fe89c4",
   "metadata": {},
   "source": [
    "# 2. Write a Python Program to Find HCF?"
   ]
  },
  {
   "cell_type": "code",
   "execution_count": 5,
   "id": "0277497d",
   "metadata": {},
   "outputs": [
    {
     "name": "stdout",
     "output_type": "stream",
     "text": [
      "Enter the first number = 12\n",
      "Enter the second Number = 16\n",
      "The GCD of 12 and 16 is = 4\n"
     ]
    }
   ],
   "source": [
    "#WAP to find the HCF of two numbers \n",
    "x = int(input('Enter the first number = '))\n",
    "y = int(input('Enter the second Number = '))\n",
    "\n",
    "# choose the smaller number\n",
    "if x > y:\n",
    "    smaller = y\n",
    "else:\n",
    "    smaller = x\n",
    "    \n",
    "# find gcd of the number\n",
    "for i in range (1,smaller+1):\n",
    "    if((x % i == 0) and (y % i == 0)):\n",
    "        gcd = i\n",
    "\n",
    "# display result\n",
    "print('The GCD of',x,'and',y,'is =',gcd)"
   ]
  },
  {
   "cell_type": "markdown",
   "id": "78280219",
   "metadata": {},
   "source": [
    "# 3. Write a Python Program to Convert Decimal to Binary, Octal and Hexadecimal?"
   ]
  },
  {
   "cell_type": "code",
   "execution_count": 6,
   "id": "ad44caa1",
   "metadata": {},
   "outputs": [
    {
     "name": "stdout",
     "output_type": "stream",
     "text": [
      "enter the number =12\n",
      "The Binary of the number is = 0b1100\n",
      "The Octal of the number is = 0o14\n",
      "The Hexadecimal of the number is = 0xc\n"
     ]
    }
   ],
   "source": [
    "number=int(input(\"enter the number =\"))\n",
    "print(\"The Binary of the number is =\",bin(number))\n",
    "print(\"The Octal of the number is =\",oct(number))\n",
    "print(\"The Hexadecimal of the number is =\",hex(number))"
   ]
  },
  {
   "cell_type": "markdown",
   "id": "562ba214",
   "metadata": {},
   "source": [
    "# 4. Write a Python Program To Find ASCII value of a character?"
   ]
  },
  {
   "cell_type": "code",
   "execution_count": 11,
   "id": "b21d6e94",
   "metadata": {},
   "outputs": [
    {
     "name": "stdout",
     "output_type": "stream",
     "text": [
      "enter the character or word or a sentence =Shivam\n",
      "The ASCII value of a characters are [83, 104, 105, 118, 97, 109]\n"
     ]
    }
   ],
   "source": [
    "string=input(\"enter the character or word or a sentence =\")\n",
    "ASCII=[]\n",
    "for i in string:\n",
    "    ASCII.append(ord(i))\n",
    "print(\"The ASCII value of a characters are\",ASCII)"
   ]
  },
  {
   "cell_type": "markdown",
   "id": "70151432",
   "metadata": {},
   "source": [
    "# 5. Write a Python Program to Make a Simple Calculator with 4 basic mathematical operations?"
   ]
  },
  {
   "cell_type": "code",
   "execution_count": 2,
   "id": "4d176718",
   "metadata": {},
   "outputs": [
    {
     "name": "stdout",
     "output_type": "stream",
     "text": [
      "Select operation.\n",
      "1.Add\n",
      "2.Subtract\n",
      "3.Multiply\n",
      "4.Divide\n",
      "Enter choice(1/2/3/4): 2\n",
      "Enter first number: 2\n",
      "Enter second number: 3\n",
      "2.0 - 3.0 = -1.0\n",
      "Let's do next calculation? (yes/no): no\n"
     ]
    }
   ],
   "source": [
    "def add(x,y):\n",
    "    return x+y\n",
    "def sub(x,y):\n",
    "    return x-y\n",
    "def mul(x,y):\n",
    "    return x*y\n",
    "def div(x,y):\n",
    "    return x/y\n",
    "\n",
    "print(\"Select operation.\")\n",
    "print(\"1.Add\")\n",
    "print(\"2.Subtract\")\n",
    "print(\"3.Multiply\")\n",
    "print(\"4.Divide\")\n",
    "\n",
    "while True:\n",
    "    # take input from the user\n",
    "    choice = input(\"Enter choice(1/2/3/4): \")\n",
    "\n",
    "    # check if choice is one of the four options\n",
    "    if choice in ('1', '2', '3', '4'):\n",
    "        num1 = float(input(\"Enter first number: \"))\n",
    "        num2 = float(input(\"Enter second number: \"))\n",
    "\n",
    "        if choice == '1':\n",
    "            print(num1, \"+\", num2, \"=\", add(num1, num2))\n",
    "\n",
    "        elif choice == '2':\n",
    "            print(num1, \"-\", num2, \"=\", sub(num1, num2))\n",
    "\n",
    "        elif choice == '3':\n",
    "            print(num1, \"*\", num2, \"=\", mul(num1, num2))\n",
    "\n",
    "        elif choice == '4':\n",
    "            print(num1, \"/\", num2, \"=\", div(num1, num2))\n",
    "        \n",
    "        # check if user wants another calculation\n",
    "        # break the while loop if answer is no\n",
    "        next_calculation = input(\"Let's do next calculation? (yes/no): \")\n",
    "        if next_calculation == \"no\":\n",
    "            break\n",
    "    else:\n",
    "        print(\"Invalid Input\")"
   ]
  },
  {
   "cell_type": "markdown",
   "id": "eb3d637e",
   "metadata": {},
   "source": [
    "# End"
   ]
  }
 ],
 "metadata": {
  "kernelspec": {
   "display_name": "Python 3 (ipykernel)",
   "language": "python",
   "name": "python3"
  },
  "language_info": {
   "codemirror_mode": {
    "name": "ipython",
    "version": 3
   },
   "file_extension": ".py",
   "mimetype": "text/x-python",
   "name": "python",
   "nbconvert_exporter": "python",
   "pygments_lexer": "ipython3",
   "version": "3.9.7"
  }
 },
 "nbformat": 4,
 "nbformat_minor": 5
}
