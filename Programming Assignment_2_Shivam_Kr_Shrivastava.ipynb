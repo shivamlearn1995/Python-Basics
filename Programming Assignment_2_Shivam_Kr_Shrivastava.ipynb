{
 "cells": [
  {
   "cell_type": "markdown",
   "id": "a02ed9ea",
   "metadata": {},
   "source": [
    "#                                               Programming Assignment-2\n",
    "Name:- Shivam Kumar Shrivastava\n",
    "\n",
    "Email:-sbashrivastava95@gmail.com"
   ]
  },
  {
   "cell_type": "markdown",
   "id": "200c9038",
   "metadata": {},
   "source": [
    "# 1.Write a Python program to convert kilometers to miles?"
   ]
  },
  {
   "cell_type": "code",
   "execution_count": 3,
   "id": "33dc03b9",
   "metadata": {},
   "outputs": [
    {
     "name": "stdout",
     "output_type": "stream",
     "text": [
      "enter the length in KM =10\n",
      "Length in KM = 10 KM\n",
      "Length in miles = 6.21 miles\n"
     ]
    }
   ],
   "source": [
    "#Suppose length of the railway trakcs are in KM\n",
    "length=int(input(\"enter the length in KM =\"))\n",
    "print(\"Length in KM =\",length,\"KM\")\n",
    "conversion_factor=0.6214\n",
    "miles=length*conversion_factor\n",
    "print(\"Length in miles =\",round(miles,2),\"miles\")"
   ]
  },
  {
   "cell_type": "markdown",
   "id": "a45eaa7a",
   "metadata": {},
   "source": [
    "# 2.Write a Python program to convert Celsius to Fahrenheit?"
   ]
  },
  {
   "cell_type": "code",
   "execution_count": 4,
   "id": "3d3a8c6a",
   "metadata": {},
   "outputs": [
    {
     "name": "stdout",
     "output_type": "stream",
     "text": [
      "enter the temperature in Celsius32\n",
      "Temperature in Celsius = 32 degree celsius\n",
      "Temperature in Fahrenheit = 51.2 degree Fahrenheit\n"
     ]
    }
   ],
   "source": [
    "celsius=eval(input(\"enter the temperature in Celsius\"))\n",
    "print(\"Temperature in Celsius =\",celsius,\"degree celsius\")\n",
    "Fahrenheit=((9/15)*celsius)+32\n",
    "print(\"Temperature in Fahrenheit =\",Fahrenheit,\"degree Fahrenheit\")"
   ]
  },
  {
   "cell_type": "markdown",
   "id": "b8b724b6",
   "metadata": {},
   "source": [
    "# 3.Write a Python program to display calendar?"
   ]
  },
  {
   "cell_type": "code",
   "execution_count": 5,
   "id": "541ba803",
   "metadata": {},
   "outputs": [
    {
     "name": "stdout",
     "output_type": "stream",
     "text": [
      "enter the year of the calender =2022\n",
      "enter the month of the calender =06\n",
      "     June 2022\n",
      "Mo Tu We Th Fr Sa Su\n",
      "       1  2  3  4  5\n",
      " 6  7  8  9 10 11 12\n",
      "13 14 15 16 17 18 19\n",
      "20 21 22 23 24 25 26\n",
      "27 28 29 30\n",
      "\n"
     ]
    }
   ],
   "source": [
    "import calendar\n",
    "y=int(input(\"enter the year of the calender =\"))\n",
    "m=int(input(\"enter the month of the calender =\"))\n",
    "print(calendar.month(y,m))"
   ]
  },
  {
   "cell_type": "markdown",
   "id": "b3d8615c",
   "metadata": {},
   "source": [
    "# 4.Write a Python program to solve quadratic equation?"
   ]
  },
  {
   "cell_type": "code",
   "execution_count": 1,
   "id": "38271a0f",
   "metadata": {},
   "outputs": [
    {
     "name": "stdout",
     "output_type": "stream",
     "text": [
      "The Quadratic equation is : a*x2+b*x+c\n",
      " a :5\n",
      " b :20\n",
      " c :10\n",
      "There are 2 roots: -0.585786 and -3.414214\n"
     ]
    }
   ],
   "source": [
    "from math import sqrt\n",
    "print(\"The Quadratic equation is : a*x2+b*x+c\")\n",
    "a=eval(input(\" a :\"))\n",
    "b=eval(input(\" b :\"))\n",
    "c=eval(input(\" c :\"))\n",
    "r=(b**2)-(4*a*c)\n",
    "if r > 0:\n",
    "    num_roots = 2\n",
    "    x1 = (((-b) + sqrt(r))/(2*a))     \n",
    "    x2 = (((-b) - sqrt(r))/(2*a))\n",
    "    print(\"There are 2 roots: %f and %f\" % (x1, x2))\n",
    "elif r == 0:\n",
    "    num_roots = 1\n",
    "    x = (-b) / 2*a\n",
    "    print(\"There is one root: \", x)\n",
    "else:\n",
    "    num_roots = 0\n",
    "    print(\"No roots, discriminant < 0.\")\n",
    "    exit()"
   ]
  },
  {
   "cell_type": "markdown",
   "id": "aed0b4dc",
   "metadata": {},
   "source": [
    "# 5.Write a Python program to swap two variables without temp variable?"
   ]
  },
  {
   "cell_type": "code",
   "execution_count": 3,
   "id": "9b80080d",
   "metadata": {},
   "outputs": [
    {
     "name": "stdout",
     "output_type": "stream",
     "text": [
      "enter the first number =100\n",
      "enter the second number =200\n",
      "The number before swap are= 100 , 200\n",
      "The number after swap are = 200 , 100\n"
     ]
    }
   ],
   "source": [
    "number1=int(input(\"enter the first number =\"))\n",
    "number2=int(input(\"enter the second number =\"))\n",
    "print(\"The number before swap are=\",number1,\",\",number2)\n",
    "number1,number2=number2,number1\n",
    "print(\"The number after swap are =\",number1,\",\",number2)"
   ]
  },
  {
   "cell_type": "markdown",
   "id": "5f220d16",
   "metadata": {},
   "source": [
    "# End"
   ]
  }
 ],
 "metadata": {
  "kernelspec": {
   "display_name": "Python 3 (ipykernel)",
   "language": "python",
   "name": "python3"
  },
  "language_info": {
   "codemirror_mode": {
    "name": "ipython",
    "version": 3
   },
   "file_extension": ".py",
   "mimetype": "text/x-python",
   "name": "python",
   "nbconvert_exporter": "python",
   "pygments_lexer": "ipython3",
   "version": "3.9.7"
  }
 },
 "nbformat": 4,
 "nbformat_minor": 5
}
