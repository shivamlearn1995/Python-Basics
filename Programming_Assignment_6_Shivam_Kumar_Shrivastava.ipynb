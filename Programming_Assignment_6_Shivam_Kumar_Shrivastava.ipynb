{
  "nbformat": 4,
  "nbformat_minor": 0,
  "metadata": {
    "colab": {
      "name": "Programming Assignment_6.ipynb",
      "provenance": [],
      "collapsed_sections": []
    },
    "kernelspec": {
      "name": "python3",
      "display_name": "Python 3"
    },
    "language_info": {
      "name": "python"
    }
  },
  "cells": [
    {
      "cell_type": "markdown",
      "source": [
        "**Progarmming Assignment-6**\n",
        "\n",
        "Name:-Shivam Kumar Shrivastava\n",
        "Email:-sbashrivastava95@gmail.com"
      ],
      "metadata": {
        "id": "XM9eDxFlJGBa"
      }
    },
    {
      "cell_type": "markdown",
      "source": [
        "**1. Write a Python Program to Display Fibonacci Sequence Using Recursion?**"
      ],
      "metadata": {
        "id": "4-gBAFRPJfkU"
      }
    },
    {
      "cell_type": "code",
      "source": [
        "def Fibonacci(n):  \n",
        "  if n<= 1:  \n",
        "    return n  \n",
        "  else:  \n",
        "    return(Fibonacci(n-1) + Fibonacci(n-2))  \n",
        "\n",
        "nterms = int(input(\"Enter the terms =\")) \n",
        "\n",
        "  \n",
        "if nterms <= 0:  \n",
        "\n",
        "   print(\"Please enter a positive integer\")  \n",
        "\n",
        "else:\n",
        "  print(\"Fibonacci sequence are =\")  \n",
        "  for i in range(nterms):  \n",
        "    print(Fibonacci(i))"
      ],
      "metadata": {
        "colab": {
          "base_uri": "https://localhost:8080/"
        },
        "id": "3N6mN-bqJYSk",
        "outputId": "3c377dde-58a6-4431-fe96-2aea38d9f9e0"
      },
      "execution_count": 4,
      "outputs": [
        {
          "output_type": "stream",
          "name": "stdout",
          "text": [
            "Enter the terms =10\n",
            "Fibonacci sequence are =\n",
            "0\n",
            "1\n",
            "1\n",
            "2\n",
            "3\n",
            "5\n",
            "8\n",
            "13\n",
            "21\n",
            "34\n"
          ]
        }
      ]
    },
    {
      "cell_type": "markdown",
      "source": [
        "**2. Write a Python Program to Find Factorial of Number Using Recursion?**"
      ],
      "metadata": {
        "id": "Ysjcko-yKqGW"
      }
    },
    {
      "cell_type": "code",
      "source": [
        "def factorial(n):\n",
        "  if n==1:\n",
        "    return 1\n",
        "  else:\n",
        "    return n*factorial(n-1)\n",
        "n=int(input(\"Enter the number =\"))\n",
        "if n<0:\n",
        "  print(\"Error, Please enter the positive number :\")\n",
        "elif n==0:\n",
        "  print(\"The Factorial of 0 is =\",1)\n",
        "else:\n",
        "  print(f\"The Factorial of {n} is =\",factorial(n))\n"
      ],
      "metadata": {
        "colab": {
          "base_uri": "https://localhost:8080/"
        },
        "id": "b8N6BMFoJ0Xm",
        "outputId": "795c7a9c-1ecc-49e1-fefb-06b7834ab4b3"
      },
      "execution_count": 8,
      "outputs": [
        {
          "output_type": "stream",
          "name": "stdout",
          "text": [
            "Enter the number =5\n",
            "The Factorial of 5 is = 120\n"
          ]
        }
      ]
    },
    {
      "cell_type": "markdown",
      "source": [
        "**3. Write a Python Program to calculate your Body Mass Index?**"
      ],
      "metadata": {
        "id": "79vxQHWmMcf6"
      }
    },
    {
      "cell_type": "code",
      "source": [
        "height = float(input(\"Enter your height in cm =\"))\n",
        "weight = float(input(\"Enter your weight in kg =\"))\n",
        "BMI = weight / (height/100)**2\n",
        "print(f\"You BMI is {BMI}\")\n",
        "if BMI <= 18.4:\n",
        "    print(\"You are underweight.\")\n",
        "elif BMI <= 24.9:\n",
        "    print(\"You are healthy.\")\n",
        "elif BMI <= 29.9:\n",
        "    print(\"You are over weight.\")\n",
        "elif BMI <= 34.9:\n",
        "    print(\"You are severely over weight.\")\n",
        "elif BMI <= 39.9:\n",
        "    print(\"You are obese.\")\n",
        "else:\n",
        "    print(\"You are severely obese.\")"
      ],
      "metadata": {
        "colab": {
          "base_uri": "https://localhost:8080/"
        },
        "id": "GqNPxC39K-K-",
        "outputId": "5cc82076-20d4-4ebf-84c7-362fbc9c852e"
      },
      "execution_count": 10,
      "outputs": [
        {
          "output_type": "stream",
          "name": "stdout",
          "text": [
            "Enter your height in cm =167\n",
            "Enter your weight in kg =73\n",
            "You BMI is 26.175194521137367\n",
            "You are over weight.\n"
          ]
        }
      ]
    },
    {
      "cell_type": "markdown",
      "source": [
        "**4. Write a Python Program to calculate the natural logarithm of any number?**"
      ],
      "metadata": {
        "id": "St2o2qSYOD5j"
      }
    },
    {
      "cell_type": "code",
      "source": [
        "n=int(input(\"Enter the number =\"))\n",
        "import math\n",
        "print(math.log(math.e))\n",
        "print(f\"The natural logrithm of {n} is =\",math.log(n))"
      ],
      "metadata": {
        "colab": {
          "base_uri": "https://localhost:8080/"
        },
        "id": "rZ-En4oENYiH",
        "outputId": "c2c2cb74-d413-4d8f-a607-38e67cdd4c4e"
      },
      "execution_count": 13,
      "outputs": [
        {
          "output_type": "stream",
          "name": "stdout",
          "text": [
            "Enter the number =10\n",
            "1.0\n",
            "The natural logrithm of 10 is = 2.302585092994046\n"
          ]
        }
      ]
    },
    {
      "cell_type": "markdown",
      "source": [
        "**5. Write a Python Program for cube sum of first n natural numbers?**"
      ],
      "metadata": {
        "id": "chtEU7KuQKNx"
      }
    },
    {
      "cell_type": "code",
      "source": [
        "n=int(input(\"Enter the number is =\"))\n",
        "s=0\n",
        "# iterating loop up to given number n\n",
        "for i in range(1,n+1):\n",
        "    # adding cube sum using pow() function\n",
        "    s+=pow(i,3)\n",
        "print(f\"The cube sum of first {n} natural numbers is =\",s)"
      ],
      "metadata": {
        "colab": {
          "base_uri": "https://localhost:8080/"
        },
        "id": "T_ahGi78O241",
        "outputId": "1187d316-3ba7-4331-b6c4-7ba70415cb9a"
      },
      "execution_count": 14,
      "outputs": [
        {
          "output_type": "stream",
          "name": "stdout",
          "text": [
            "Enter the number is =5\n",
            "The cube sum of first 5 natural numbers is = 225\n"
          ]
        }
      ]
    },
    {
      "cell_type": "markdown",
      "source": [
        "**End**"
      ],
      "metadata": {
        "id": "gGnIubEbRK-8"
      }
    },
    {
      "cell_type": "code",
      "source": [
        ""
      ],
      "metadata": {
        "id": "mUL_3UkCRCHP"
      },
      "execution_count": null,
      "outputs": []
    }
  ]
}