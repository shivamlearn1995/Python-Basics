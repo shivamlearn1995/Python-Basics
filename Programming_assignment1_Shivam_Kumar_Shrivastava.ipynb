{
 "cells": [
  {
   "cell_type": "markdown",
   "id": "965036e4",
   "metadata": {},
   "source": [
    "#                                               Programming Assignment-1\n",
    "Name:- Shivam Kumar Shrivastava\n",
    "\n",
    "Email:-sbashrivastava95@gmail.com"
   ]
  },
  {
   "cell_type": "markdown",
   "id": "55bc6366",
   "metadata": {},
   "source": [
    "# 1. Write a Python program to print &quot;Hello Python&quot;?"
   ]
  },
  {
   "cell_type": "code",
   "execution_count": 1,
   "id": "b6525b9b",
   "metadata": {},
   "outputs": [
    {
     "name": "stdout",
     "output_type": "stream",
     "text": [
      "Hello Python\n"
     ]
    }
   ],
   "source": [
    "print(\"Hello Python\")"
   ]
  },
  {
   "cell_type": "markdown",
   "id": "7f0ceb64",
   "metadata": {},
   "source": [
    "# 2. Write a Python program to do arithmetical operations addition and division.?"
   ]
  },
  {
   "cell_type": "code",
   "execution_count": 2,
   "id": "f009451f",
   "metadata": {},
   "outputs": [
    {
     "name": "stdout",
     "output_type": "stream",
     "text": [
      "enter the first number =20\n",
      "enter the second number =2\n",
      "Results of Addition operation = 22\n",
      "Results of Division Operation = 10.0\n"
     ]
    }
   ],
   "source": [
    "a=int(input(\"enter the first number =\"))\n",
    "b=int(input(\"enter the second number =\"))\n",
    "print(\"Results of Addition operation =\",a+b)\n",
    "print(\"Results of Division Operation =\",a/b)"
   ]
  },
  {
   "cell_type": "markdown",
   "id": "377dfada",
   "metadata": {},
   "source": [
    "# 3. Write a Python program to find the area of a triangle?"
   ]
  },
  {
   "cell_type": "code",
   "execution_count": 4,
   "id": "6e957b50",
   "metadata": {},
   "outputs": [
    {
     "name": "stdout",
     "output_type": "stream",
     "text": [
      "enter the base of the traingle in cm =20\n",
      "enter the height of the traingle in cm =10\n",
      "Area of the Traingle  100.0 square cm\n"
     ]
    }
   ],
   "source": [
    "base=int(input(\"enter the base of the traingle in cm =\"))\n",
    "height=int(input(\"enter the height of the traingle in cm =\"))\n",
    "Area=(1/2)*base*height\n",
    "print(\"Area of the Traingle \",Area,\"square cm\")"
   ]
  },
  {
   "cell_type": "markdown",
   "id": "04687c5b",
   "metadata": {},
   "source": [
    "# 4. Write a Python program to swap two variables?"
   ]
  },
  {
   "cell_type": "code",
   "execution_count": 6,
   "id": "fba48072",
   "metadata": {},
   "outputs": [
    {
     "name": "stdout",
     "output_type": "stream",
     "text": [
      "The variables before swap are = 100 , 120\n",
      "The variables after swap are = 120 , 100\n"
     ]
    }
   ],
   "source": [
    "#method 1 to swap variable\n",
    "a=100\n",
    "b=120\n",
    "print(\"The variables before swap are =\",a,\",\",b)\n",
    "a,b=b,a\n",
    "print(\"The variables after swap are =\",a,\",\",b)"
   ]
  },
  {
   "cell_type": "markdown",
   "id": "34bd7e5c",
   "metadata": {},
   "source": [
    "# 5. Write a Python program to generate a random number?"
   ]
  },
  {
   "cell_type": "code",
   "execution_count": 7,
   "id": "b40c913e",
   "metadata": {},
   "outputs": [
    {
     "name": "stdout",
     "output_type": "stream",
     "text": [
      "enter the start number1\n",
      "enter the end number20\n",
      "13\n"
     ]
    }
   ],
   "source": [
    "#import the random module\n",
    "number1=int(input(\"enter the start number\"))\n",
    "number2=int(input(\"enter the end number\"))\n",
    "import random \n",
    "#generating random number from number1 to number2\n",
    "print(random.randint(number1,number2))"
   ]
  },
  {
   "cell_type": "markdown",
   "id": "d62e1585",
   "metadata": {},
   "source": [
    "# End"
   ]
  }
 ],
 "metadata": {
  "kernelspec": {
   "display_name": "Python 3 (ipykernel)",
   "language": "python",
   "name": "python3"
  },
  "language_info": {
   "codemirror_mode": {
    "name": "ipython",
    "version": 3
   },
   "file_extension": ".py",
   "mimetype": "text/x-python",
   "name": "python",
   "nbconvert_exporter": "python",
   "pygments_lexer": "ipython3",
   "version": "3.9.7"
  }
 },
 "nbformat": 4,
 "nbformat_minor": 5
}
