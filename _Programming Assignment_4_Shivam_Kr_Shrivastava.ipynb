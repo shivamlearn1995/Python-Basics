{
 "cells": [
  {
   "cell_type": "markdown",
   "id": "31f17df0",
   "metadata": {},
   "source": [
    "#                                      Programming Assignment-4\n",
    "Name:-Shivam Kumar Shrivastava\n",
    "    \n",
    "Email:-sbashrivastava95@gmail.com"
   ]
  },
  {
   "cell_type": "markdown",
   "id": "64e1c2e2",
   "metadata": {},
   "source": [
    "# 1. Write a Python Program to Find the Factorial of a Number?"
   ]
  },
  {
   "cell_type": "code",
   "execution_count": 6,
   "id": "22d0b5b8",
   "metadata": {},
   "outputs": [
    {
     "name": "stdout",
     "output_type": "stream",
     "text": [
      "enter a number =5\n",
      "120\n"
     ]
    }
   ],
   "source": [
    "n=int(input(\"enter a number =\"))\n",
    "s=1\n",
    "for i in range(2,n+1):\n",
    "    s=s*i\n",
    "print(s)"
   ]
  },
  {
   "cell_type": "markdown",
   "id": "361a6c1f",
   "metadata": {},
   "source": [
    "# 2. Write a Python Program to Display the multiplication Table?"
   ]
  },
  {
   "cell_type": "code",
   "execution_count": 7,
   "id": "728fa17e",
   "metadata": {},
   "outputs": [
    {
     "name": "stdout",
     "output_type": "stream",
     "text": [
      "enter a number for multplication table =2\n",
      "2\n",
      "4\n",
      "6\n",
      "8\n",
      "10\n",
      "12\n",
      "14\n",
      "16\n",
      "18\n",
      "20\n"
     ]
    }
   ],
   "source": [
    "n=int(input(\"enter a number for multplication table =\"))\n",
    "for i in range(1,11):\n",
    "    print(n*i)"
   ]
  },
  {
   "cell_type": "code",
   "execution_count": 13,
   "id": "03fe1619",
   "metadata": {},
   "outputs": [
    {
     "name": "stdout",
     "output_type": "stream",
     "text": [
      "2 4 6 8 10 12 14 16 18 20\n"
     ]
    }
   ],
   "source": [
    "print(*{n*i for i in range(1,11)})"
   ]
  },
  {
   "cell_type": "markdown",
   "id": "d904bce0",
   "metadata": {},
   "source": [
    "# 3. Write a Python Program to Print the Fibonacci sequence?"
   ]
  },
  {
   "cell_type": "code",
   "execution_count": 16,
   "id": "e27432f1",
   "metadata": {},
   "outputs": [
    {
     "name": "stdout",
     "output_type": "stream",
     "text": [
      "enter a number10\n",
      "0 1 1 2 3 5 8 13 21 34 "
     ]
    }
   ],
   "source": [
    "n=int(input(\"enter a number\"))\n",
    "a=0\n",
    "b=1\n",
    "print(a,b,end=\" \")\n",
    "for i in range(n-2):\n",
    "    c=a+b\n",
    "    a=b\n",
    "    b=c\n",
    "    print(b,end=\" \")    "
   ]
  },
  {
   "cell_type": "markdown",
   "id": "b0a4b34a",
   "metadata": {},
   "source": [
    "# 4. Write a Python Program to Check Armstrong Number?"
   ]
  },
  {
   "cell_type": "code",
   "execution_count": 32,
   "id": "3ef619e0",
   "metadata": {},
   "outputs": [
    {
     "name": "stdout",
     "output_type": "stream",
     "text": [
      "enter a number =371\n",
      "371 is a Armstrong number\n"
     ]
    }
   ],
   "source": [
    "n=int(input(\"enter a number =\"))\n",
    "l=len(str(n))\n",
    "s=str(n)\n",
    "sum=0\n",
    "for i in s:\n",
    "    sum+=int(i)**l\n",
    "if sum==n:\n",
    "    print(f\"{n} is a Armstrong number\")\n",
    "else:\n",
    "    print(f\"{n} is not a Armstrong number\")"
   ]
  },
  {
   "cell_type": "markdown",
   "id": "97fd060d",
   "metadata": {},
   "source": [
    "# 5. Write a Python Program to Find Armstrong Number in an Interval?"
   ]
  },
  {
   "cell_type": "code",
   "execution_count": 38,
   "id": "da263018",
   "metadata": {},
   "outputs": [
    {
     "name": "stdout",
     "output_type": "stream",
     "text": [
      "Enter lower range: 101\n",
      "Enter upper range: 201\n",
      "125\n",
      "153\n"
     ]
    }
   ],
   "source": [
    "lower = int(input(\"Enter lower range: \"))  \n",
    "upper = int(input(\"Enter upper range: \"))  \n",
    "for num in range(lower,upper + 1):  \n",
    "    sum = 0  \n",
    "    temp = num  \n",
    "    while temp > 0:  \n",
    "        digit = temp % 10  \n",
    "        sum += digit ** 3  \n",
    "        temp //= 10 \n",
    "        if num == sum:  \n",
    "            print(num)  "
   ]
  },
  {
   "cell_type": "markdown",
   "id": "e983d0d4",
   "metadata": {},
   "source": [
    "# 6. Write a Python Program to Find the Sum of Natural Numbers?"
   ]
  },
  {
   "cell_type": "code",
   "execution_count": 41,
   "id": "166b109c",
   "metadata": {},
   "outputs": [
    {
     "name": "stdout",
     "output_type": "stream",
     "text": [
      "enter a number =16\n",
      "The sum of natural number is 136.0\n"
     ]
    }
   ],
   "source": [
    "#sum of natural numbers formual is n(n+1)/2 where n=natural number\n",
    "\n",
    "n=int(input(\"enter a number =\"))\n",
    "if n>0:\n",
    "    print(f\"The sum of natural number is {(n*(n+1))/2}\")\n",
    "elif n<0:\n",
    "    print(\"Please, enter positive natural number.\")\n",
    "else:\n",
    "    print(\"Zero, Please enter positive natural number\")"
   ]
  },
  {
   "cell_type": "markdown",
   "id": "a6e64dc6",
   "metadata": {},
   "source": [
    "# End"
   ]
  }
 ],
 "metadata": {
  "kernelspec": {
   "display_name": "Python 3 (ipykernel)",
   "language": "python",
   "name": "python3"
  },
  "language_info": {
   "codemirror_mode": {
    "name": "ipython",
    "version": 3
   },
   "file_extension": ".py",
   "mimetype": "text/x-python",
   "name": "python",
   "nbconvert_exporter": "python",
   "pygments_lexer": "ipython3",
   "version": "3.9.7"
  }
 },
 "nbformat": 4,
 "nbformat_minor": 5
}
